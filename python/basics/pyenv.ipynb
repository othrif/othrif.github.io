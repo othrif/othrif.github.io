{
 "cells": [
  {
   "cell_type": "raw",
   "metadata": {},
   "source": [
    "---\n",
    "title: \"Using pyenv and upgrading python\"\n",
    "date: 2020-04-12T14:41:32+02:00\n",
    "author: \"Othmane Rifki\"\n",
    "type: technical_note\n",
    "draft: false\n",
    "---"
   ]
  },
  {
   "cell_type": "markdown",
   "metadata": {},
   "source": [
    "### Update pyenv\n",
    "\n",
    "To pick up the latest python versions for example to get `3.9.2`\n",
    "\n",
    "``` bash\n",
    "cd /home/`whoami`/.pyenv/plugins/python-build/../.. && git pull && cd -\n",
    "pyenv install 3.9.2\n",
    "```\n"
   ]
  },
  {
   "cell_type": "markdown",
   "metadata": {},
   "source": [
    "### Update python from 3.8.5 to 3.9.6\n",
    "* Note all my old packages worked in 3.8.5\n",
    "* good review article: https://mungingdata.com/python/how-pyenv-works-shims/\n",
    "\n",
    "``` bash\n",
    "brew upgrade\n",
    "pyenv install --list | grep \" 3\\.9\"\n",
    "pyenv versions\n",
    "eval \"$(pyenv init --path)\" # add in .zshrc or .bashrc\n",
    "pyenv global 3.9.6  # set the global python\n",
    "cat ~/.pyenv/version # Global python version\n",
    "python -m test # test your python \n",
    "pyenv local 3.6.11 # set a python version for a specific directory\n",
    "cat /tmp/pyenv_test/.python-version # local python version\n",
    "ls ~/.pyenv/versions/3.6.11/lib/python3.6/site-packages # all packages code location and what is installed\n",
    "pyenv uninstall 3.6.11 # uninstall python versions you do not want\n",
    "pyenv shell 3.8.5 # Change python version\n",
    "echo $PYENV_VERSION # gives you the python version\n",
    "```"
   ]
  },
  {
   "cell_type": "markdown",
   "metadata": {},
   "source": [
    "###  Install all packages from old version to new\n",
    "``` bash\n",
    "pyenv shell 3.8.5\n",
    "pip list | awk '{print $1}' > /tmp/requirements.txt\n",
    "pyenv shell 3.9.6\n",
    "pip install -r /tmp/requirements.txt\n",
    "```"
   ]
  }
 ],
 "metadata": {
  "kernelspec": {
   "display_name": "Python 3",
   "language": "python",
   "name": "python3"
  },
  "language_info": {
   "codemirror_mode": {
    "name": "ipython",
    "version": 3
   },
   "file_extension": ".py",
   "mimetype": "text/x-python",
   "name": "python",
   "nbconvert_exporter": "python",
   "pygments_lexer": "ipython3",
   "version": "3.8.5"
  }
 },
 "nbformat": 4,
 "nbformat_minor": 4
}
