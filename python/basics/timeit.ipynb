{
 "cells": [
  {
   "cell_type": "raw",
   "metadata": {},
   "source": [
    "---\n",
    "title: \"Time your code\"\n",
    "date: 2020-04-12T14:41:32+02:00\n",
    "author: \"Othmane Rifki\"\n",
    "type: technical_note\n",
    "draft: false\n",
    "---"
   ]
  },
  {
   "cell_type": "markdown",
   "metadata": {},
   "source": [
    "### Using timeit\n",
    "`timeit.timeit` function only accepts strings. This can be quite annoying if you want to measure larger functions."
   ]
  },
  {
   "cell_type": "code",
   "execution_count": 5,
   "metadata": {},
   "outputs": [
    {
     "data": {
      "text/plain": [
       "2.7127743320000093"
      ]
     },
     "execution_count": 5,
     "metadata": {},
     "output_type": "execute_result"
    }
   ],
   "source": [
    "import timeit\n",
    "timeit.timeit('\"-\".join(str(n) for n in range(10_000_000))', number=1)"
   ]
  },
  {
   "cell_type": "markdown",
   "metadata": {},
   "source": [
    "### Using context manager"
   ]
  },
  {
   "cell_type": "code",
   "execution_count": 6,
   "metadata": {},
   "outputs": [
    {
     "name": "stdout",
     "output_type": "stream",
     "text": [
      "List Comprehension Example: 0.5566189289093018\n"
     ]
    }
   ],
   "source": [
    "from contextlib import contextmanager\n",
    "from time import time\n",
    "\n",
    "\n",
    "@contextmanager\n",
    "def timing(description: str) -> None:\n",
    "    start = time()\n",
    "    yield\n",
    "    ellapsed_time = time() - start\n",
    "\n",
    "    print(f\"{description}: {ellapsed_time}\")\n",
    "\n",
    "\n",
    "with timing(\"List Comprehension Example\"):\n",
    "    s = [x for x in range(10_000_000)]"
   ]
  },
  {
   "cell_type": "markdown",
   "metadata": {},
   "source": [
    "### Using class"
   ]
  },
  {
   "cell_type": "code",
   "execution_count": 16,
   "metadata": {},
   "outputs": [
    {
     "name": "stdout",
     "output_type": "stream",
     "text": [
      "Time took for List Comprehension Example: 0.5780296325683594\n"
     ]
    }
   ],
   "source": [
    "from time import time\n",
    "\n",
    "class TimeTook(object):\n",
    "    \"\"\"\n",
    "    Calculates the time a block took to run.\n",
    "    Example usage:\n",
    "    with TimeTook(\"sample\"):\n",
    "        s = [x for x in range(10000000)]\n",
    "    \"\"\"\n",
    "    def __init__(self, description):\n",
    "        self.description = description\n",
    "\n",
    "    def __enter__(self):\n",
    "        self.start = time()\n",
    "\n",
    "    def __exit__(self, type, value, traceback):\n",
    "        self.end = time()\n",
    "        print(f\"Time took for {self.description}: {self.end - self.start}\")\n",
    "        \n",
    "with TimeTook(\"List Comprehension Example\"):\n",
    "    s = [x for x in range(10_000_000)]"
   ]
  }
 ],
 "metadata": {
  "kernelspec": {
   "display_name": "Python 3",
   "language": "python",
   "name": "python3"
  },
  "language_info": {
   "codemirror_mode": {
    "name": "ipython",
    "version": 3
   },
   "file_extension": ".py",
   "mimetype": "text/x-python",
   "name": "python",
   "nbconvert_exporter": "python",
   "pygments_lexer": "ipython3",
   "version": "3.8.5"
  }
 },
 "nbformat": 4,
 "nbformat_minor": 4
}
